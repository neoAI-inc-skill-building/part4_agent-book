{
  "cells": [
    {
      "cell_type": "markdown",
      "metadata": {
        "id": "05j6xqM8T117"
      },
      "source": [
        "# LangChain/LangGraphで実装するエージェントデザインパターン"
      ]
    },
    {
      "cell_type": "markdown",
      "metadata": {
        "id": "dOM6CA9mT117"
      },
      "source": [
        "## セットアップ"
      ]
    },
    {
      "cell_type": "code",
      "execution_count": null,
      "metadata": {
        "id": "xBOYC8YqT117"
      },
      "outputs": [],
      "source": [
        "!git clone https://github.com/neoAI-inc-skill-building/part4_agent-book.git"
      ]
    },
    {
      "cell_type": "code",
      "execution_count": null,
      "metadata": {
        "id": "rg0iTrPFT118"
      },
      "outputs": [],
      "source": [
        "%cd part4_agent-book\n",
        "%cd chapter12"
      ]
    },
    {
      "cell_type": "code",
      "execution_count": null,
      "metadata": {
        "id": "Ktw84RAIT118"
      },
      "outputs": [],
      "source": [
        "!pip install langchain-core==0.3.0 langchain-community==0.3.0 \\\n",
        "  langgraph==0.2.22 langchain-openai==0.2.0 langchain-anthropic==0.2.0 \\\n",
        "    python-dotenv==1.0.1 numpy==1.26.4 faiss-cpu==1.8.0.post1 \\\n",
        "      pydantic-settings==2.5.2 retry==0.9.2 decorator==4.4.2 pydantic==2.10.6"
      ]
    },
    {
      "cell_type": "code",
      "execution_count": null,
      "metadata": {
        "id": "-Qt-5SO9T118"
      },
      "outputs": [],
      "source": [
        "# 【注意】\n",
        "# 上記のセルを実行したあと、Google Colab 上部のメニューから「ランタイム」の「セッションを再起動する」を実行してください。\n",
        "# その後このセルを実行して `1.26.4` と表示されることを確認してください。\n",
        "\n",
        "import numpy as np\n",
        "\n",
        "print(np.__version__)\n",
        "assert np.__version__ == \"1.26.4\""
      ]
    },
    {
      "cell_type": "code",
      "execution_count": null,
      "metadata": {
        "id": "blRQOITZT118"
      },
      "outputs": [],
      "source": [
        "import os\n",
        "from google.colab import userdata\n",
        "\n",
        "os.environ[\"OPENAI_API_KEY\"] = userdata.get(\"OPENAI_API_KEY\")\n",
        "os.environ[\"TAVILY_API_KEY\"] = userdata.get(\"TAVILY_API_KEY\")\n",
        "os.environ[\"LANGCHAIN_TRACING_V2\"] = \"true\"\n",
        "os.environ[\"LANGCHAIN_ENDPOINT\"] = \"https://api.smith.langchain.com\"\n",
        "os.environ[\"LANGCHAIN_API_KEY\"] = userdata.get(\"LANGCHAIN_API_KEY\")\n",
        "os.environ[\"LANGCHAIN_PROJECT\"] = \"agent-book\""
      ]
    },
    {
      "cell_type": "markdown",
      "metadata": {
        "id": "MM_6JKMbT118"
      },
      "source": [
        "## 1. パッシブゴールクリエイター"
      ]
    },
    {
      "cell_type": "code",
      "execution_count": null,
      "metadata": {
        "id": "xnvqbNpbT118"
      },
      "outputs": [],
      "source": [
        "!python -m passive_goal_creator.main --task \"カレーライスの作り方\""
      ]
    },
    {
      "cell_type": "markdown",
      "metadata": {
        "id": "6oympa1LT118"
      },
      "source": [
        "## 2. プロンプト/レスポンス最適化"
      ]
    },
    {
      "cell_type": "code",
      "execution_count": null,
      "metadata": {
        "id": "m1P-gHBtT118"
      },
      "outputs": [],
      "source": [
        "!python -m prompt_optimizer.main --task \"カレーライスの作り方\""
      ]
    },
    {
      "cell_type": "code",
      "execution_count": null,
      "metadata": {
        "id": "zspU9fEUT118"
      },
      "outputs": [],
      "source": [
        "!python -m response_optimizer.main --task \"カレーライスの作り方\""
      ]
    },
    {
      "cell_type": "markdown",
      "metadata": {
        "id": "sX1TU73tT118"
      },
      "source": [
        "## 3. シングルパスプランジェネレーター"
      ]
    },
    {
      "cell_type": "code",
      "execution_count": null,
      "metadata": {
        "id": "cbtvH4KKT118"
      },
      "outputs": [],
      "source": [
        "!python -m single_path_plan_generation.main --task \"カレーライスの作り方\""
      ]
    },
    {
      "cell_type": "markdown",
      "metadata": {
        "id": "2Ja-oeGsT118"
      },
      "source": [
        "## 4. マルチパスプランジェネレーター"
      ]
    },
    {
      "cell_type": "code",
      "execution_count": null,
      "metadata": {
        "id": "WC05UvEhT118"
      },
      "outputs": [],
      "source": [
        "!python -m multi_path_plan_generation.main --task \"カレーライスの作り方\""
      ]
    },
    {
      "cell_type": "markdown",
      "metadata": {
        "id": "rRCD4HUET118"
      },
      "source": [
        "## 5. セルフリフレクション"
      ]
    },
    {
      "cell_type": "code",
      "execution_count": null,
      "metadata": {
        "id": "q5ivZrTBT118"
      },
      "outputs": [],
      "source": [
        "!python -m self_reflection.main --task \"カレーライスの作り方\""
      ]
    },
    {
      "cell_type": "markdown",
      "metadata": {
        "id": "s7o8zNe2T118"
      },
      "source": [
        "## 6. クロスリフレクション"
      ]
    },
    {
      "cell_type": "code",
      "execution_count": null,
      "metadata": {
        "id": "OvK-K7LdT118"
      },
      "outputs": [],
      "source": [
        "!python -m cross_reflection.main --task \"カレーライスの作り方\""
      ]
    },
    {
      "cell_type": "markdown",
      "metadata": {
        "id": "BWHEmFVPT118"
      },
      "source": [
        "## 7. 役割ベースの協調"
      ]
    },
    {
      "cell_type": "code",
      "execution_count": null,
      "metadata": {
        "id": "71Yb9AS_T118"
      },
      "outputs": [],
      "source": [
        "!python -m role_based_cooperation.main --task \"カレーライスの作り方\""
      ]
    },
    {
      "cell_type": "code",
      "source": [],
      "metadata": {
        "id": "T4HdnesudlLh"
      },
      "execution_count": null,
      "outputs": []
    }
  ],
  "metadata": {
    "language_info": {
      "name": "python"
    },
    "colab": {
      "provenance": []
    },
    "kernelspec": {
      "name": "python3",
      "display_name": "Python 3"
    }
  },
  "nbformat": 4,
  "nbformat_minor": 0
}