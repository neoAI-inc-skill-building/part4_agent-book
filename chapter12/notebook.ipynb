{
  "cells": [
    {
      "cell_type": "markdown",
      "metadata": {
        "id": "05j6xqM8T117"
      },
      "source": [
        "# LangChain/LangGraphで実装するエージェントデザインパターン"
      ]
    },
    {
      "cell_type": "markdown",
      "metadata": {
        "id": "dOM6CA9mT117"
      },
      "source": [
        "## セットアップ"
      ]
    },
    {
      "cell_type": "code",
      "execution_count": null,
      "metadata": {
        "id": "xBOYC8YqT117"
      },
      "outputs": [],
      "source": [
        "!git clone https://github.com/GenerativeAgents/agent-book.git"
      ]
    },
    {
      "cell_type": "code",
      "execution_count": null,
      "metadata": {
        "id": "rg0iTrPFT118"
      },
      "outputs": [],
      "source": [
        "%cd agent-book\n",
        "%cd chapter12"
      ]
    },
    {
      "cell_type": "code",
      "execution_count": null,
      "metadata": {
        "id": "Ktw84RAIT118"
      },
      "outputs": [],
      "source": [
        "!pip install langchain-core==0.3.0 langchain-community==0.3.0 \\\n",
        "  langgraph==0.2.22 langchain-openai==0.2.0 langchain-anthropic==0.2.0 \\\n",
        "    python-dotenv==1.0.1 numpy==1.26.4 faiss-cpu==1.8.0.post1 \\\n",
        "      pydantic-settings==2.5.2 retry==0.9.2 decorator==4.4.2 pydantic==2.10.6"
      ]
    },
    {
      "cell_type": "code",
      "execution_count": null,
      "metadata": {
        "id": "-Qt-5SO9T118"
      },
      "outputs": [],
      "source": [
        "# 【注意】\n",
        "# 上記のセルを実行したあと、Google Colab 上部のメニューから「ランタイム」の「セッションを再起動する」を実行してください。\n",
        "# その後このセルを実行して `1.26.4` と表示されることを確認してください。\n",
        "\n",
        "import numpy as np\n",
        "\n",
        "print(np.__version__)\n",
        "assert np.__version__ == \"1.26.4\""
      ]
    },
    {
      "cell_type": "code",
      "execution_count": null,
      "metadata": {
        "id": "blRQOITZT118"
      },
      "outputs": [],
      "source": [
        "import os\n",
        "from google.colab import userdata\n",
        "\n",
        "os.environ[\"OPENAI_API_KEY\"] = userdata.get(\"OPENAI_API_KEY\")\n",
        "os.environ[\"TAVILY_API_KEY\"] = userdata.get(\"TAVILY_API_KEY\")\n",
        "os.environ[\"LANGCHAIN_TRACING_V2\"] = \"true\"\n",
        "os.environ[\"LANGCHAIN_ENDPOINT\"] = \"https://api.smith.langchain.com\"\n",
        "os.environ[\"LANGCHAIN_API_KEY\"] = userdata.get(\"LANGCHAIN_API_KEY\")\n",
        "os.environ[\"LANGCHAIN_PROJECT\"] = \"agent-book\""
      ]
    },
    {
      "cell_type": "markdown",
      "metadata": {
        "id": "MM_6JKMbT118"
      },
      "source": [
        "## 1. パッシブゴールクリエイター"
      ]
    },
    {
      "cell_type": "code",
      "execution_count": null,
      "metadata": {
        "id": "xnvqbNpbT118"
      },
      "outputs": [],
      "source": [
        "!python -m passive_goal_creator.main --task \"カレーライスの作り方\""
      ]
    },
    {
      "cell_type": "markdown",
      "metadata": {
        "id": "6oympa1LT118"
      },
      "source": [
        "## 2. プロンプト/レスポンス最適化"
      ]
    },
    {
      "cell_type": "code",
      "execution_count": null,
      "metadata": {
        "id": "m1P-gHBtT118"
      },
      "outputs": [],
      "source": [
        "!python -m prompt_optimizer.main --task \"カレーライスの作り方\""
      ]
    },
    {
      "cell_type": "code",
      "execution_count": null,
      "metadata": {
        "id": "zspU9fEUT118"
      },
      "outputs": [],
      "source": [
        "!python -m response_optimizer.main --task \"カレーライスの作り方\""
      ]
    },
    {
      "cell_type": "markdown",
      "metadata": {
        "id": "sX1TU73tT118"
      },
      "source": [
        "## 3. シングルパスプランジェネレーター"
      ]
    },
    {
      "cell_type": "code",
      "execution_count": null,
      "metadata": {
        "id": "cbtvH4KKT118"
      },
      "outputs": [],
      "source": [
        "!python -m single_path_plan_generation.main --task \"カレーライスの作り方\""
      ]
    },
    {
      "cell_type": "markdown",
      "metadata": {
        "id": "2Ja-oeGsT118"
      },
      "source": [
        "## 4. マルチパスプランジェネレーター"
      ]
    },
    {
      "cell_type": "code",
      "execution_count": null,
      "metadata": {
        "id": "WC05UvEhT118"
      },
      "outputs": [],
      "source": [
        "!python -m multi_path_plan_generation.main --task \"カレーライスの作り方\""
      ]
    },
    {
      "cell_type": "markdown",
      "metadata": {
        "id": "rRCD4HUET118"
      },
      "source": [
        "## 5. セルフリフレクション"
      ]
    },
    {
      "cell_type": "code",
      "execution_count": 10,
      "metadata": {
        "colab": {
          "base_uri": "https://localhost:8080/"
        },
        "id": "q5ivZrTBT118",
        "outputId": "b07ea91f-7086-4069-9c9b-76203ee619f0"
      },
      "outputs": [
        {
          "output_type": "stream",
          "name": "stdout",
          "text": [
            "### カレーライスのレシピ\n",
            "\n",
            "#### 材料（4人分）\n",
            "- 鶏肉: 300g\n",
            "- 玉ねぎ: 2個\n",
            "- 人参: 1本\n",
            "- じゃがいも: 2個\n",
            "- カレールー: 1箱（約200g）\n",
            "- 水: 600ml\n",
            "- サラダ油: 大さじ1\n",
            "- ご飯: 4杯分\n",
            "\n",
            "#### 調理手順\n",
            "1. **材料の準備**（約10分）\n",
            "   - 玉ねぎは薄切りにします。\n",
            "   - 人参は皮をむき、乱切りにします。\n",
            "   - じゃがいもは皮をむき、一口大に切ります。\n",
            "   - 鶏肉は一口大に切ります。\n",
            "\n",
            "2. **炒める**（約10分）\n",
            "   - 鍋にサラダ油を熱し、玉ねぎを透明になるまで炒めます。\n",
            "   - 鶏肉を加え、色が変わるまで炒めます。\n",
            "\n",
            "3. **煮込む**（約15分）\n",
            "   - 人参とじゃがいもを加え、さらに炒めます。\n",
            "   - 水を加え、沸騰したらアクを取り除きます。\n",
            "   - 蓋をして中火で約15分煮込みます。\n",
            "\n",
            "4. **ルーを加える**（約10分）\n",
            "   - 火を止めてカレールーを加え、溶かします。\n",
            "   - 再び火をつけ、弱火で10分ほど煮込みます。時々かき混ぜてください。\n",
            "\n",
            "5. **仕上げ**\n",
            "   - ご飯を皿に盛り、カレーをかけて完成です。\n",
            "\n",
            "#### 調理時間\n",
            "- 準備時間: 約10分\n",
            "- 調理時間: 約35分\n",
            "- 合計: 約45分\n",
            "\n",
            "#### 調理のコツ\n",
            "- **玉ねぎをしっかり炒める**: 玉ねぎをしっかり炒めることで、甘みが増し、カレーの味が深まります。\n",
            "- **じゃがいもの煮崩れに注意**: じゃがいもは煮崩れしやすいので、煮込みすぎに注意してください。\n",
            "\n",
            "#### ヒントと注意点\n",
            "- **野菜の切り方**: 野菜は均一な大きさに切ると火の通りが均一になります。\n",
            "- **火加減の調整**: ルーを入れた後は焦げないように時々かき混ぜてください。\n",
            "- **材料の代替案**: 鶏肉の代わりに牛肉や豚肉を使用することも可能です。また、野菜は季節のものを使うと良いでしょう。\n",
            "- **保存方法**: 作り置きする場合は、冷蔵庫で保存し、2～3日以内に食べきるようにしましょう。冷凍保存も可能ですが、じゃがいもは食感が変わるため、取り除くか、後から加えると良いです。\n",
            "\n",
            "このレシピは、ユーザーが自宅で簡単に美味しいカレーライスを作ることができるように設計されています。材料の入手しやすさや調理の手軽さを考慮し、初心者でも安心して調理を進められるように工夫しました。\n"
          ]
        }
      ],
      "source": [
        "!python -m self_reflection.main --task \"カレーライスの作り方\""
      ]
    },
    {
      "cell_type": "markdown",
      "metadata": {
        "id": "s7o8zNe2T118"
      },
      "source": [
        "## 6. クロスリフレクション"
      ]
    },
    {
      "cell_type": "code",
      "execution_count": null,
      "metadata": {
        "id": "OvK-K7LdT118"
      },
      "outputs": [],
      "source": [
        "!python -m cross_reflection.main --task \"カレーライスの作り方\""
      ]
    },
    {
      "cell_type": "markdown",
      "metadata": {
        "id": "BWHEmFVPT118"
      },
      "source": [
        "## 7. 役割ベースの協調"
      ]
    },
    {
      "cell_type": "code",
      "execution_count": null,
      "metadata": {
        "id": "71Yb9AS_T118"
      },
      "outputs": [],
      "source": [
        "!python -m role_based_cooperation.main --task \"カレーライスの作り方\""
      ]
    }
  ],
  "metadata": {
    "language_info": {
      "name": "python"
    },
    "colab": {
      "provenance": []
    },
    "kernelspec": {
      "name": "python3",
      "display_name": "Python 3"
    }
  },
  "nbformat": 4,
  "nbformat_minor": 0
}